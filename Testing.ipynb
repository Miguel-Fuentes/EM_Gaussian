{
 "cells": [
  {
   "cell_type": "markdown",
   "metadata": {},
   "source": [
    "### What's going wrong?"
   ]
  },
  {
   "cell_type": "code",
   "execution_count": 54,
   "metadata": {},
   "outputs": [],
   "source": [
    "import numpy as np\n",
    "from scipy.stats import norm"
   ]
  },
  {
   "cell_type": "code",
   "execution_count": 55,
   "metadata": {},
   "outputs": [],
   "source": [
    "k = 2\n",
    "data = np.random.uniform(low=0, high=10, size=(10,1))"
   ]
  },
  {
   "cell_type": "code",
   "execution_count": 56,
   "metadata": {},
   "outputs": [],
   "source": [
    "params = list(zip(\n",
    "    list(np.random.uniform(low=np.min(data), high=np.max(data), size=k)), \n",
    "    list(np.random.uniform(low=np.std(data, ddof=1)/2, high=np.std(data, ddof=1)*2, size=k))\n",
    "))"
   ]
  },
  {
   "cell_type": "code",
   "execution_count": 57,
   "metadata": {},
   "outputs": [],
   "source": [
    "weights = np.random.uniform(size=k)\n",
    "weights /= np.sum(weights)"
   ]
  },
  {
   "cell_type": "code",
   "execution_count": 79,
   "metadata": {},
   "outputs": [
    {
     "data": {
      "text/plain": [
       "array([[0.17677919, 0.82322081],\n",
       "       [0.14745926, 0.85254074],\n",
       "       [0.14786333, 0.85213667],\n",
       "       [0.36666473, 0.63333527],\n",
       "       [0.13615487, 0.86384513],\n",
       "       [0.13611197, 0.86388803],\n",
       "       [0.1359648 , 0.8640352 ],\n",
       "       [0.1411489 , 0.8588511 ],\n",
       "       [0.19234393, 0.80765607],\n",
       "       [0.14838542, 0.85161458]])"
      ]
     },
     "execution_count": 79,
     "metadata": {},
     "output_type": "execute_result"
    }
   ],
   "source": [
    "probs = []\n",
    "for mean, std in params:\n",
    "    probs.append(norm.pdf(data, loc=mean, scale=std))\n",
    "\n",
    "probs = np.hstack(probs) * weights\n",
    "probs /= np.sum(probs, axis=1, keepdims=True)\n",
    "probs"
   ]
  },
  {
   "cell_type": "code",
   "execution_count": 80,
   "metadata": {},
   "outputs": [
    {
     "data": {
      "text/plain": [
       "array([1.72887639, 8.27112361])"
      ]
     },
     "execution_count": 80,
     "metadata": {},
     "output_type": "execute_result"
    }
   ],
   "source": [
    "n = np.sum(probs, axis=0) \n",
    "weights = n / data.shape[0]\n",
    "n"
   ]
  },
  {
   "cell_type": "code",
   "execution_count": 81,
   "metadata": {},
   "outputs": [
    {
     "data": {
      "text/plain": [
       "array([0.17288764, 0.82711236])"
      ]
     },
     "execution_count": 81,
     "metadata": {},
     "output_type": "execute_result"
    }
   ],
   "source": [
    "weights"
   ]
  },
  {
   "cell_type": "code",
   "execution_count": 82,
   "metadata": {},
   "outputs": [
    {
     "data": {
      "text/plain": [
       "[(5.307243894200343, 6.512668247082408),\n",
       " (4.468485174031444, 4.327114763193506)]"
      ]
     },
     "execution_count": 82,
     "metadata": {},
     "output_type": "execute_result"
    }
   ],
   "source": [
    "means = np.sum(probs * data, axis=0) / n\n",
    "stdevs = np.sum(probs * ((np.repeat(data, means.shape[0], axis=1) - means) ** 2), axis=0) / n\n",
    "params = list(zip(\n",
    "        list(means),\n",
    "        list(stdevs)\n",
    "))\n",
    "params"
   ]
  },
  {
   "cell_type": "code",
   "execution_count": null,
   "metadata": {},
   "outputs": [],
   "source": []
  }
 ],
 "metadata": {
  "kernelspec": {
   "display_name": "Python 3",
   "language": "python",
   "name": "python3"
  },
  "language_info": {
   "codemirror_mode": {
    "name": "ipython",
    "version": 3
   },
   "file_extension": ".py",
   "mimetype": "text/x-python",
   "name": "python",
   "nbconvert_exporter": "python",
   "pygments_lexer": "ipython3",
   "version": "3.6.8"
  }
 },
 "nbformat": 4,
 "nbformat_minor": 2
}
