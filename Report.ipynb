{
 "cells": [
  {
   "cell_type": "markdown",
   "metadata": {},
   "source": [
    "# EM Algorithm for Mikture of k Gaussians"
   ]
  },
  {
   "cell_type": "code",
   "execution_count": 1,
   "metadata": {},
   "outputs": [],
   "source": [
    "import gaussian_mixture as gm\n",
    "import numpy as np"
   ]
  },
  {
   "cell_type": "code",
   "execution_count": 2,
   "metadata": {},
   "outputs": [],
   "source": [
    "FILEPATH = 'em_data.txt'\n",
    "data = []\n",
    "\n",
    "with open(FILEPATH) as f:\n",
    "    for line in f:\n",
    "        data.append(float(line))\n",
    "        \n",
    "data = np.array(data)\n",
    "data = np.reshape(data, (data.shape[0],1))"
   ]
  },
  {
   "cell_type": "code",
   "execution_count": 18,
   "metadata": {},
   "outputs": [
    {
     "name": "stdout",
     "output_type": "stream",
     "text": [
      "-8508.098022635486\n"
     ]
    },
    {
     "data": {
      "text/plain": [
       "[(15.449160792031073, 0.9671159353647738),\n",
       " (25.486654429329228, 0.9980966181791335),\n",
       " (5.50927940017642, 1.0302576846296716)]"
      ]
     },
     "execution_count": 18,
     "metadata": {},
     "output_type": "execute_result"
    }
   ],
   "source": [
    "model = gm.gaussian_mix(3)\n",
    "print(model.train(data, 200, return_likelihood=True))\n",
    "model.params"
   ]
  },
  {
   "cell_type": "code",
   "execution_count": null,
   "metadata": {},
   "outputs": [],
   "source": []
  }
 ],
 "metadata": {
  "kernelspec": {
   "display_name": "Python 3",
   "language": "python",
   "name": "python3"
  },
  "language_info": {
   "codemirror_mode": {
    "name": "ipython",
    "version": 3
   },
   "file_extension": ".py",
   "mimetype": "text/x-python",
   "name": "python",
   "nbconvert_exporter": "python",
   "pygments_lexer": "ipython3",
   "version": "3.6.8"
  }
 },
 "nbformat": 4,
 "nbformat_minor": 2
}
