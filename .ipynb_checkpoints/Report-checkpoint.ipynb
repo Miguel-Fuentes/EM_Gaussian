{
 "cells": [
  {
   "cell_type": "markdown",
   "metadata": {},
   "source": [
    "# EM Algorithm for Mikture of k Gaussians"
   ]
  },
  {
   "cell_type": "code",
   "execution_count": 1,
   "metadata": {},
   "outputs": [],
   "source": [
    "import gaussian_mixture as gm\n",
    "import numpy as np"
   ]
  },
  {
   "cell_type": "code",
   "execution_count": 2,
   "metadata": {},
   "outputs": [],
   "source": [
    "FILEPATH = 'em_data.txt'\n",
    "data = []\n",
    "\n",
    "with open(FILEPATH) as f:\n",
    "    for line in f:\n",
    "        data.append(float(line))\n",
    "        \n",
    "data = np.array(data)\n",
    "data = np.reshape(data, (data.shape[0],1))"
   ]
  },
  {
   "cell_type": "code",
   "execution_count": 3,
   "metadata": {},
   "outputs": [
    {
     "data": {
      "text/plain": [
       "[(5.309735837547306, 0.9531219857759546),\n",
       " (6.35667929153815, 0.4706491532337275),\n",
       " (15.210556639164034, 1.0836776051430397),\n",
       " (25.48665442932319, 0.9980966182302861),\n",
       " (15.586889289699092, 0.8480018210363125)]"
      ]
     },
     "execution_count": 3,
     "metadata": {},
     "output_type": "execute_result"
    }
   ],
   "source": [
    "model = gm.gaussian_mix(5)\n",
    "model.train(data, 100)\n",
    "model.params"
   ]
  },
  {
   "cell_type": "code",
   "execution_count": 4,
   "metadata": {},
   "outputs": [
    {
     "data": {
      "text/plain": [
       "array([0.26980123, 0.0635321 , 0.12199181, 0.33333333, 0.21134152])"
      ]
     },
     "execution_count": 4,
     "metadata": {},
     "output_type": "execute_result"
    }
   ],
   "source": [
    "model.weights"
   ]
  },
  {
   "cell_type": "code",
   "execution_count": null,
   "metadata": {},
   "outputs": [],
   "source": []
  }
 ],
 "metadata": {
  "kernelspec": {
   "display_name": "Python 3",
   "language": "python",
   "name": "python3"
  },
  "language_info": {
   "codemirror_mode": {
    "name": "ipython",
    "version": 3
   },
   "file_extension": ".py",
   "mimetype": "text/x-python",
   "name": "python",
   "nbconvert_exporter": "python",
   "pygments_lexer": "ipython3",
   "version": "3.6.8"
  }
 },
 "nbformat": 4,
 "nbformat_minor": 2
}
