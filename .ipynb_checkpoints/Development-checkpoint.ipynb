{
 "cells": [
  {
   "cell_type": "markdown",
   "metadata": {},
   "source": [
    "# EM Algorithm for Mikture of k Gaussians"
   ]
  },
  {
   "cell_type": "markdown",
   "metadata": {},
   "source": [
    "## Setup"
   ]
  },
  {
   "cell_type": "code",
   "execution_count": 37,
   "metadata": {},
   "outputs": [],
   "source": [
    "import numpy as np\n",
    "from scipy.stats import norm"
   ]
  },
  {
   "cell_type": "code",
   "execution_count": 149,
   "metadata": {},
   "outputs": [],
   "source": [
    "FILEPATH = 'em_data.txt'\n",
    "data = []\n",
    "\n",
    "with open(FILEPATH) as f:\n",
    "    for line in f:\n",
    "        data.append(float(line))\n",
    "        \n",
    "data = np.array(data)\n",
    "data = np.reshape(data, (data.shape[0],1))\n",
    "\n",
    "k = 5\n",
    "num_iters = 3\n",
    "\n",
    "params = list(zip(\n",
    "    list(np.random.uniform(low=np.min(data), high=np.max(data), size=k)), \n",
    "    list(np.random.uniform(high=np.std(data, ddof=1), size=k))\n",
    "))\n",
    "\n",
    "weights = np.random.uniform(size=k)\n",
    "weights /= np.sum(weights)\n",
    "\n",
    "for _ in range(num_iters):\n",
    "    probs = []\n",
    "    for mean, std in params:\n",
    "        probs.append(norm.pdf(data, loc=mean, scale=std))\n",
    "\n",
    "    probs = np.hstack(probs)\n",
    "\n",
    "    preds = probs * weights\n",
    "    preds /= np.sum(preds, axis=1, keepdims=True)\n",
    "\n",
    "    n = np.sum(preds, axis=0) \n",
    "    weights = n / data.shape[0]\n",
    "\n",
    "    means = np.sum(preds * data, axis=0) / data.shape[0]\n",
    "    stdevs = np.sum(preds * (np.repeat(data, means.shape[0], axis=1) - means), axis=0) / data.shape[0]\n",
    "    params = list(zip(\n",
    "        list(means),\n",
    "        list(stdevs)\n",
    "    ))"
   ]
  },
  {
   "cell_type": "code",
   "execution_count": 150,
   "metadata": {},
   "outputs": [
    {
     "data": {
      "text/plain": [
       "[(2.0135801499180596e-212, 2.0135801499180596e-212),\n",
       " (0.0, 0.0),\n",
       " (0.0, 0.0),\n",
       " (0.09886417048097919, 0.09622828958198054),\n",
       " (15.38283403263491, 0.4101315795381147)]"
      ]
     },
     "execution_count": 150,
     "metadata": {},
     "output_type": "execute_result"
    }
   ],
   "source": [
    "params"
   ]
  },
  {
   "cell_type": "code",
   "execution_count": null,
   "metadata": {},
   "outputs": [],
   "source": []
  }
 ],
 "metadata": {
  "kernelspec": {
   "display_name": "Python 3",
   "language": "python",
   "name": "python3"
  },
  "language_info": {
   "codemirror_mode": {
    "name": "ipython",
    "version": 3
   },
   "file_extension": ".py",
   "mimetype": "text/x-python",
   "name": "python",
   "nbconvert_exporter": "python",
   "pygments_lexer": "ipython3",
   "version": "3.6.8"
  }
 },
 "nbformat": 4,
 "nbformat_minor": 2
}
