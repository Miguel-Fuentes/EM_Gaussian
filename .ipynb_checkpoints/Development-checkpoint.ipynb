{
 "cells": [
  {
   "cell_type": "markdown",
   "metadata": {},
   "source": [
    "# EM Algorithm for Mikture of k Gaussians"
   ]
  },
  {
   "cell_type": "markdown",
   "metadata": {},
   "source": [
    "## Setup"
   ]
  },
  {
   "cell_type": "code",
   "execution_count": 229,
   "metadata": {},
   "outputs": [],
   "source": [
    "import numpy as np\n",
    "from scipy.stats import norm"
   ]
  },
  {
   "cell_type": "code",
   "execution_count": 268,
   "metadata": {},
   "outputs": [],
   "source": [
    "FILEPATH = 'em_data.txt'\n",
    "data = []\n",
    "\n",
    "with open(FILEPATH) as f:\n",
    "    for line in f:\n",
    "        data.append(float(line))\n",
    "        \n",
    "data = np.array(data)\n",
    "data = np.reshape(data, (data.shape[0],1))\n",
    "\n",
    "k = 5\n",
    "num_iters = 100\n",
    "\n",
    "params = list(zip(\n",
    "    list(np.random.uniform(low=np.min(data), high=np.max(data), size=k)), \n",
    "    list(np.random.uniform(low=np.std(data, ddof=1)/2, high=np.std(data, ddof=1)*2, size=k))\n",
    "))\n",
    "\n",
    "weights = np.random.uniform(size=k)\n",
    "weights /= np.sum(weights)\n",
    "\n",
    "for _ in range(num_iters):\n",
    "    probs = []\n",
    "    for mean, std in params:\n",
    "        probs.append(norm.pdf(data, loc=mean, scale=std))\n",
    "\n",
    "    probs = np.hstack(probs) * weights\n",
    "    probs /= np.sum(probs, axis=1, keepdims=True)\n",
    "\n",
    "    n = np.sum(probs, axis=0) \n",
    "    weights = n / data.shape[0]\n",
    "\n",
    "    means = np.sum(probs * data, axis=0) / n\n",
    "    stdevs = np.sum(probs * ((np.repeat(data, means.shape[0], axis=1) - means) ** 2), axis=0) / n\n",
    "    params = list(zip(\n",
    "        list(means),\n",
    "        list(stdevs)\n",
    "    ))"
   ]
  },
  {
   "cell_type": "code",
   "execution_count": 269,
   "metadata": {},
   "outputs": [
    {
     "data": {
      "text/plain": [
       "[(15.481698203116078, 67.51493830369122),\n",
       " (15.48169820311611, 67.51493830369131),\n",
       " (15.48169820311609, 67.51493830369131),\n",
       " (15.481698203116055, 67.51493830369095),\n",
       " (15.481698203116105, 67.51493830369127)]"
      ]
     },
     "execution_count": 269,
     "metadata": {},
     "output_type": "execute_result"
    }
   ],
   "source": [
    "params"
   ]
  },
  {
   "cell_type": "code",
   "execution_count": null,
   "metadata": {},
   "outputs": [],
   "source": []
  }
 ],
 "metadata": {
  "kernelspec": {
   "display_name": "Python 3",
   "language": "python",
   "name": "python3"
  },
  "language_info": {
   "codemirror_mode": {
    "name": "ipython",
    "version": 3
   },
   "file_extension": ".py",
   "mimetype": "text/x-python",
   "name": "python",
   "nbconvert_exporter": "python",
   "pygments_lexer": "ipython3",
   "version": "3.6.8"
  }
 },
 "nbformat": 4,
 "nbformat_minor": 2
}
